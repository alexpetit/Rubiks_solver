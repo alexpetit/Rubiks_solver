{
 "cells": [
  {
   "cell_type": "code",
   "execution_count": 1,
   "metadata": {
    "collapsed": true
   },
   "outputs": [],
   "source": [
    "import cv2\n",
    "import matplotlib.pyplot as plt\n",
    "import pandas as pd\n",
    "import numpy as np\n"
   ]
  },
  {
   "cell_type": "code",
   "execution_count": 25,
   "outputs": [],
   "source": [
    "def angle_cos(p0, p1, p2):\n",
    "\n",
    "    d1, d2 = (p0-p1).astype('float'), (p2-p1).astype('float')\n",
    "\n",
    "    return abs( np.dot(d1, d2) / np.sqrt( np.dot(d1, d1)*np.dot(d2, d2) ) )\n",
    "\n",
    "def longueur_square (points):\n",
    "    tab_long = []\n",
    "    res = True\n",
    "    for i in range(len(points)):\n",
    "        if i <3:\n",
    "            dist = np.sqrt((points[i+1][0]-points[i][0])**2 + (points[i+1][1]-points[i][1])**2)\n",
    "        else:\n",
    "            dist = np.sqrt((points[-1][0]-points[0][0])**2 + (points[-1][1]-points[0][1])**2)\n",
    "        if dist < 70 or dist > 100:\n",
    "            res = False\n",
    "\n",
    "    return res\n",
    "\n",
    "def find_squares(img):\n",
    "    img = cv2.GaussianBlur(img, (5, 5), 0)\n",
    "    squares = []\n",
    "    for gray in cv2.split(img):\n",
    "        for thrs in range(0, 255, 26):\n",
    "            if thrs == 0:\n",
    "                bin = cv2.Canny(gray, 0, 50, apertureSize=5)\n",
    "                bin = cv2.dilate(bin, None)\n",
    "            else:\n",
    "                _retval, bin = cv2.threshold(gray, thrs, 255, cv2.THRESH_BINARY)\n",
    "            bin, contours, _hierarchy = cv2.findContours(bin, cv2.RETR_LIST, cv2.CHAIN_APPROX_SIMPLE)\n",
    "            for cnt in contours:\n",
    "                cnt_len = cv2.arcLength(cnt, True)\n",
    "                cnt = cv2.approxPolyDP(cnt, 0.02*cnt_len, True)\n",
    "                if len(cnt) == 4 and cv2.contourArea(cnt) > 1000 and cv2.isContourConvex(cnt):\n",
    "                    cnt = cnt.reshape(-1, 2)\n",
    "                    max_cos = np.max([angle_cos( cnt[i], cnt[(i+1) % 4], cnt[(i+2) % 4] ) for i in range(4)])\n",
    "                    #print(cnt)\n",
    "                    a = (cnt[1][1] - cnt[0][1])\n",
    "\n",
    "                    if max_cos < 0.1 and a < img.shape[0]*0.8:\n",
    "\n",
    "                        squares.append(cnt)\n",
    "    return squares\n"
   ],
   "metadata": {
    "collapsed": false,
    "pycharm": {
     "name": "#%%\n"
    }
   }
  },
  {
   "cell_type": "code",
   "execution_count": 2,
   "outputs": [],
   "source": [
    "imgobj = cv2.imread('img/green_face.jpg',0)\n",
    "cv2.imshow('',imgobj)\n",
    "\n",
    "cv2.waitKey(0)\n",
    "cv2.destroyAllWindows()"
   ],
   "metadata": {
    "collapsed": false,
    "pycharm": {
     "name": "#%%\n"
    }
   }
  },
  {
   "cell_type": "code",
   "execution_count": 26,
   "outputs": [],
   "source": [
    "# import the opencv library\n",
    "import cv2\n",
    "\n",
    "\n",
    "\n",
    "vid = cv2.VideoCapture(0)\n",
    "\n",
    "while(True):\n",
    "\n",
    "    # Capture the video frame\n",
    "    # by frame\n",
    "    ret, frame = vid.read()\n",
    "\n",
    "\n",
    "    grayFrame = cv2.cvtColor(frame, cv2.COLOR_BGR2GRAY)\n",
    "    blurred = cv2.GaussianBlur(grayFrame, (3, 3), 0)\n",
    "    canny = cv2.Canny(blurred, 20, 40)\n",
    "\n",
    "    kernel = np.ones((3,3), np.uint8)\n",
    "    dilated = cv2.dilate(canny, kernel, iterations=2)\n",
    "\n",
    "    (contours, hierarchy) = cv2.findContours(dilated.copy(),\n",
    "                                         cv2.RETR_TREE,\n",
    "                                         cv2.CHAIN_APPROX_SIMPLE)\n",
    "    squares = []\n",
    "    #for each of the contours detected, the shape of the contours is approximated using approxPolyDP() function and the contours are drawn in the image using drawContours() function\n",
    "    for count in contours:\n",
    "        epsilon = 0.04 * cv2.arcLength(count, True)\n",
    "        approximations = cv2.approxPolyDP(count, epsilon, True)\n",
    "        if len(approximations) == 4 and cv2.isContourConvex(approximations):\n",
    "            approximations = approximations.reshape(-1, 2)\n",
    "            max_cos = np.max([angle_cos( approximations[i], approximations[(i+1) % 4], approximations[(i+2) % 4] ) for i in range(4)])\n",
    "            if max_cos <0.2 and cv2.contourArea(approximations)>5000 and cv2.contourArea(approximations)<10000 and longueur_square(approximations):\n",
    "                squares.append(approximations)\n",
    "\n",
    "    cv2.drawContours(frame, squares, -1, (0,255,0), 3)\n",
    "\n",
    "    #cv2.drawContours(frame,contours, -1, (0,255,0), 3)\n",
    "\n",
    "\n",
    "    # Display the resulting frame\n",
    "    cv2.imshow('frame', frame)\n",
    "\n",
    "\n",
    "    # the 'q' button is set as the\n",
    "    # quitting button you may use any\n",
    "    # desired button of your choice\n",
    "    if cv2.waitKey(1) & 0xFF == ord('q'):\n",
    "        break\n",
    "\n",
    "# After the loop release the cap object\n",
    "vid.release()\n",
    "\n",
    "cv2.destroyAllWindows()"
   ],
   "metadata": {
    "collapsed": false,
    "pycharm": {
     "name": "#%%\n"
    }
   }
  },
  {
   "cell_type": "code",
   "execution_count": 23,
   "outputs": [
    {
     "name": "stdout",
     "output_type": "stream",
     "text": [
      "9\n",
      "False\n",
      "True\n",
      "False\n",
      "False\n",
      "True\n",
      "True\n",
      "False\n",
      "False\n",
      "True\n"
     ]
    }
   ],
   "source": [
    "print(len(squares))\n",
    "#print(squares)\n",
    "for i in range (len(squares)):\n",
    "    print(longueur_square(squares[i]))"
   ],
   "metadata": {
    "collapsed": false,
    "pycharm": {
     "name": "#%%\n"
    }
   }
  },
  {
   "cell_type": "code",
   "execution_count": 8,
   "outputs": [
    {
     "name": "stdout",
     "output_type": "stream",
     "text": [
      "(4032, 3024, 3)\n"
     ]
    }
   ],
   "source": [
    "imgobj = cv2.imread('img/mixed_face.jpg')\n",
    "print(imgobj.shape)\n",
    "grayFrame = cv2.cvtColor(imgobj, cv2.COLOR_BGR2GRAY)\n",
    "blurred = cv2.GaussianBlur(grayFrame, (3, 3), 0)\n",
    "canny = cv2.Canny(blurred, 20, 40)\n",
    "\n",
    "kernel = np.ones((3,3), np.uint8)\n",
    "dilated = cv2.dilate(canny, kernel, iterations=2)\n",
    "(contours, hierarchy) = cv2.findContours(dilated.copy(),\n",
    "                                         cv2.RETR_TREE,\n",
    "                                         cv2.CHAIN_APPROX_SIMPLE)\n",
    "\n",
    "squares = []\n",
    "#for each of the contours detected, the shape of the contours is approximated using approxPolyDP() function and the contours are drawn in the image using drawContours() function\n",
    "for count in contours:\n",
    "    epsilon = 0.04 * cv2.arcLength(count, True)\n",
    "    approximations = cv2.approxPolyDP(count, epsilon, True)\n",
    "    if len(approximations) == 4 and cv2.isContourConvex(approximations):\n",
    "        approximations = approximations.reshape(-1, 2)\n",
    "        max_cos = np.max([angle_cos( approximations[i], approximations[(i+1) % 4], approximations[(i+2) % 4] ) for i in range(4)])\n",
    "        if max_cos <0.2 and cv2.contourArea(approximations)>5000 and cv2.contourArea(approximations)<10000:\n",
    "            squares.append(approximations)\n",
    "\n",
    "cv2.drawContours(imgobj, squares, -1, (0,255,0), 3)\n",
    "cv2.imshow('',imgobj)\n",
    "\n",
    "cv2.waitKey(0)\n",
    "cv2.destroyAllWindows()\n",
    "#print(len(squares))"
   ],
   "metadata": {
    "collapsed": false,
    "pycharm": {
     "name": "#%%\n"
    }
   }
  },
  {
   "cell_type": "code",
   "execution_count": null,
   "outputs": [],
   "source": [
    "\n",
    "   "
   ],
   "metadata": {
    "collapsed": false,
    "pycharm": {
     "name": "#%%\n"
    }
   }
  }
 ],
 "metadata": {
  "kernelspec": {
   "name": "python3",
   "language": "python",
   "display_name": "Python 3 (ipykernel)"
  },
  "language_info": {
   "codemirror_mode": {
    "name": "ipython",
    "version": 2
   },
   "file_extension": ".py",
   "mimetype": "text/x-python",
   "name": "python",
   "nbconvert_exporter": "python",
   "pygments_lexer": "ipython2",
   "version": "2.7.6"
  }
 },
 "nbformat": 4,
 "nbformat_minor": 0
}