{
 "cells": [
  {
   "cell_type": "code",
   "execution_count": 1,
   "metadata": {
    "collapsed": true
   },
   "outputs": [],
   "source": [
    "import cv2\n",
    "import matplotlib.pyplot as plt\n",
    "import pandas as pd\n",
    "import numpy as np\n"
   ]
  },
  {
   "cell_type": "code",
   "execution_count": 25,
   "outputs": [],
   "source": [
    "def angle_cos(p0, p1, p2):\n",
    "\n",
    "    d1, d2 = (p0-p1).astype('float'), (p2-p1).astype('float')\n",
    "\n",
    "    return abs( np.dot(d1, d2) / np.sqrt( np.dot(d1, d1)*np.dot(d2, d2) ) )\n",
    "\n",
    "def longueur_square (points):\n",
    "    tab_long = []\n",
    "    res = True\n",
    "    for i in range(len(points)):\n",
    "        if i <3:\n",
    "            dist = np.sqrt((points[i+1][0]-points[i][0])**2 + (points[i+1][1]-points[i][1])**2)\n",
    "        else:\n",
    "            dist = np.sqrt((points[-1][0]-points[0][0])**2 + (points[-1][1]-points[0][1])**2)\n",
    "        if dist < 70 or dist > 100:\n",
    "            res = False\n",
    "\n",
    "    return res\n",
    "\n",
    "def find_squares(img):\n",
    "    img = cv2.GaussianBlur(img, (5, 5), 0)\n",
    "    squares = []\n",
    "    for gray in cv2.split(img):\n",
    "        for thrs in range(0, 255, 26):\n",
    "            if thrs == 0:\n",
    "                bin = cv2.Canny(gray, 0, 50, apertureSize=5)\n",
    "                bin = cv2.dilate(bin, None)\n",
    "            else:\n",
    "                _retval, bin = cv2.threshold(gray, thrs, 255, cv2.THRESH_BINARY)\n",
    "            bin, contours, _hierarchy = cv2.findContours(bin, cv2.RETR_LIST, cv2.CHAIN_APPROX_SIMPLE)\n",
    "            for cnt in contours:\n",
    "                cnt_len = cv2.arcLength(cnt, True)\n",
    "                cnt = cv2.approxPolyDP(cnt, 0.02*cnt_len, True)\n",
    "                if len(cnt) == 4 and cv2.contourArea(cnt) > 1000 and cv2.isContourConvex(cnt):\n",
    "                    cnt = cnt.reshape(-1, 2)\n",
    "                    max_cos = np.max([angle_cos( cnt[i], cnt[(i+1) % 4], cnt[(i+2) % 4] ) for i in range(4)])\n",
    "                    #print(cnt)\n",
    "                    a = (cnt[1][1] - cnt[0][1])\n",
    "\n",
    "                    if max_cos < 0.1 and a < img.shape[0]*0.8:\n",
    "\n",
    "                        squares.append(cnt)\n",
    "    return squares\n"
   ],
   "metadata": {
    "collapsed": false,
    "pycharm": {
     "name": "#%%\n"
    }
   }
  },
  {
   "cell_type": "code",
   "execution_count": 2,
   "outputs": [],
   "source": [
    "imgobj = cv2.imread('img/green_face.jpg',0)\n",
    "cv2.imshow('',imgobj)\n",
    "\n",
    "cv2.waitKey(0)\n",
    "cv2.destroyAllWindows()"
   ],
   "metadata": {
    "collapsed": false,
    "pycharm": {
     "name": "#%%\n"
    }
   }
  },
  {
   "cell_type": "code",
   "execution_count": 33,
   "outputs": [],
   "source": [
    "# import the opencv library\n",
    "import cv2\n",
    "\n",
    "\n",
    "\n",
    "vid = cv2.VideoCapture(0)\n",
    "\n",
    "while(True):\n",
    "\n",
    "    # Capture the video frame\n",
    "    # by frame\n",
    "    ret, frame = vid.read()\n",
    "\n",
    "\n",
    "    grayFrame = cv2.cvtColor(frame, cv2.COLOR_BGR2GRAY)\n",
    "    blurred = cv2.GaussianBlur(grayFrame, (3, 3), 0)\n",
    "    canny = cv2.Canny(blurred, 20, 40)\n",
    "\n",
    "    kernel = np.ones((3,3), np.uint8)\n",
    "    dilated = cv2.dilate(canny, kernel, iterations=2)\n",
    "\n",
    "    (contours, hierarchy) = cv2.findContours(dilated.copy(),\n",
    "                                         cv2.RETR_TREE,\n",
    "                                         cv2.CHAIN_APPROX_SIMPLE)\n",
    "    squares = []\n",
    "    #for each of the contours detected, the shape of the contours is approximated using approxPolyDP() function and the contours are drawn in the image using drawContours() function\n",
    "    for count in contours:\n",
    "        epsilon = 0.04 * cv2.arcLength(count, True)\n",
    "        approximations = cv2.approxPolyDP(count, epsilon, True)\n",
    "        if len(approximations) == 4 and cv2.isContourConvex(approximations):\n",
    "            approximations = approximations.reshape(-1, 2)\n",
    "            max_cos = np.max([angle_cos( approximations[i], approximations[(i+1) % 4], approximations[(i+2) % 4] ) for i in range(4)])\n",
    "            if max_cos <0.2 and cv2.contourArea(approximations)>5000 and cv2.contourArea(approximations)<10000 and longueur_square(approximations):\n",
    "                squares.append(approximations)\n",
    "\n",
    "    cv2.drawContours(frame, squares, -1, (0,255,0), 3)\n",
    "\n",
    "    #cv2.drawContours(frame,contours, -1, (0,255,0), 3)\n",
    "\n",
    "\n",
    "    # Display the resulting frame\n",
    "    cv2.imshow('frame', frame)\n",
    "\n",
    "\n",
    "    # the 'q' button is set as the\n",
    "    # quitting button you may use any\n",
    "    # desired button of your choice\n",
    "    if cv2.waitKey(1) & 0xFF == ord('q'):\n",
    "        break\n",
    "\n",
    "# After the loop release the cap object\n",
    "vid.release()\n",
    "\n",
    "cv2.destroyAllWindows()"
   ],
   "metadata": {
    "collapsed": false,
    "pycharm": {
     "name": "#%%\n"
    }
   }
  },
  {
   "cell_type": "code",
   "execution_count": 23,
   "outputs": [
    {
     "name": "stdout",
     "output_type": "stream",
     "text": [
      "9\n",
      "False\n",
      "True\n",
      "False\n",
      "False\n",
      "True\n",
      "True\n",
      "False\n",
      "False\n",
      "True\n"
     ]
    }
   ],
   "source": [
    "print(len(squares))\n",
    "#print(squares)\n",
    "for i in range (len(squares)):\n",
    "    print(longueur_square(squares[i]))"
   ],
   "metadata": {
    "collapsed": false,
    "pycharm": {
     "name": "#%%\n"
    }
   }
  },
  {
   "cell_type": "code",
   "execution_count": 8,
   "outputs": [
    {
     "name": "stdout",
     "output_type": "stream",
     "text": [
      "(4032, 3024, 3)\n"
     ]
    }
   ],
   "source": [
    "imgobj = cv2.imread('img/mixed_face.jpg')\n",
    "print(imgobj.shape)\n",
    "grayFrame = cv2.cvtColor(imgobj, cv2.COLOR_BGR2GRAY)\n",
    "blurred = cv2.GaussianBlur(grayFrame, (3, 3), 0)\n",
    "canny = cv2.Canny(blurred, 20, 40)\n",
    "\n",
    "kernel = np.ones((3,3), np.uint8)\n",
    "dilated = cv2.dilate(canny, kernel, iterations=2)\n",
    "(contours, hierarchy) = cv2.findContours(dilated.copy(),\n",
    "                                         cv2.RETR_TREE,\n",
    "                                         cv2.CHAIN_APPROX_SIMPLE)\n",
    "\n",
    "squares = []\n",
    "#for each of the contours detected, the shape of the contours is approximated using approxPolyDP() function and the contours are drawn in the image using drawContours() function\n",
    "for count in contours:\n",
    "    epsilon = 0.04 * cv2.arcLength(count, True)\n",
    "    approximations = cv2.approxPolyDP(count, epsilon, True)\n",
    "    if len(approximations) == 4 and cv2.isContourConvex(approximations):\n",
    "        approximations = approximations.reshape(-1, 2)\n",
    "        max_cos = np.max([angle_cos( approximations[i], approximations[(i+1) % 4], approximations[(i+2) % 4] ) for i in range(4)])\n",
    "        if max_cos <0.2 and cv2.contourArea(approximations)>5000 and cv2.contourArea(approximations)<10000:\n",
    "            squares.append(approximations)\n",
    "\n",
    "cv2.drawContours(imgobj, squares, -1, (0,255,0), 3)\n",
    "cv2.imshow('',imgobj)\n",
    "\n",
    "cv2.waitKey(0)\n",
    "cv2.destroyAllWindows()\n",
    "#print(len(squares))"
   ],
   "metadata": {
    "collapsed": false,
    "pycharm": {
     "name": "#%%\n"
    }
   }
  },
  {
   "cell_type": "code",
   "execution_count": 112,
   "outputs": [],
   "source": [
    "def position(contours):\n",
    "    pt_centre = []\n",
    "    for i in range(len(contours)):\n",
    "        pt_centre.append(np.mean(contours[i], axis = 0))\n",
    "\n",
    "    pt_centre = np.array(pt_centre)\n",
    "    ind_y = pt_centre[:,1].argsort()\n",
    "\n",
    "    #Peut etre le mettre avant la fonction, jsp\n",
    "    contours = np.array(contours)\n",
    "    contours_sorted_y = contours[ind_y]\n",
    "    centre_sorted_y = pt_centre[ind_y]\n",
    "\n",
    "    pt_centre1 = centre_sorted_y[0:3]\n",
    "    pt_centre2 = centre_sorted_y[3:6]\n",
    "    pt_centre3 = centre_sorted_y[6:9]\n",
    "\n",
    "    ligne1 = contours_sorted_y[0:3]\n",
    "    ligne2 = contours_sorted_y[3:6]\n",
    "    ligne3 = contours_sorted_y[6:9]\n",
    "\n",
    "    ind_x1 = pt_centre1[:,0].argsort()\n",
    "    ind_x2 = pt_centre2[:,0].argsort()\n",
    "    ind_x3 = pt_centre3[:,0].argsort()\n",
    "\n",
    "    ligne1 = ligne1[ind_x1]\n",
    "    ligne2 = ligne2[ind_x2]\n",
    "    ligne3 = ligne3[ind_x3]\n",
    "\n",
    "    res = []\n",
    "    res.append(ligne1)\n",
    "    res.append(ligne2)\n",
    "    res.append(ligne3)\n",
    "\n",
    "    return res"
   ],
   "metadata": {
    "collapsed": false,
    "pycharm": {
     "name": "#%%\n"
    }
   }
  },
  {
   "cell_type": "code",
   "execution_count": 115,
   "outputs": [
    {
     "name": "stdout",
     "output_type": "stream",
     "text": [
      "[[[ 877  466]\n",
      "  [ 888  549]\n",
      "  [ 800  557]\n",
      "  [ 793  471]]\n",
      "\n",
      " [[1007  462]\n",
      "  [1017  550]\n",
      "  [ 928  557]\n",
      "  [ 918  468]]\n",
      "\n",
      " [[1136  459]\n",
      "  [1148  549]\n",
      "  [1059  556]\n",
      "  [1048  467]]\n",
      "\n",
      " [[ 863  342]\n",
      "  [ 873  425]\n",
      "  [ 785  432]\n",
      "  [ 778  350]]\n",
      "\n",
      " [[ 991  342]\n",
      "  [ 999  427]\n",
      "  [ 913  432]\n",
      "  [ 904  349]]\n",
      "\n",
      " [[1122  337]\n",
      "  [1131  420]\n",
      "  [1042  428]\n",
      "  [1032  344]]\n",
      "\n",
      " [[ 855  222]\n",
      "  [ 864  300]\n",
      "  [ 781  309]\n",
      "  [ 773  231]]\n",
      "\n",
      " [[ 982  222]\n",
      "  [ 990  299]\n",
      "  [ 904  307]\n",
      "  [ 899  226]]\n",
      "\n",
      " [[1110  213]\n",
      "  [1120  295]\n",
      "  [1034  304]\n",
      "  [1022  223]]]\n",
      "[array([[[ 855,  222],\n",
      "        [ 864,  300],\n",
      "        [ 781,  309],\n",
      "        [ 773,  231]],\n",
      "\n",
      "       [[ 982,  222],\n",
      "        [ 990,  299],\n",
      "        [ 904,  307],\n",
      "        [ 899,  226]],\n",
      "\n",
      "       [[1110,  213],\n",
      "        [1120,  295],\n",
      "        [1034,  304],\n",
      "        [1022,  223]]], dtype=int32), array([[[ 863,  342],\n",
      "        [ 873,  425],\n",
      "        [ 785,  432],\n",
      "        [ 778,  350]],\n",
      "\n",
      "       [[ 991,  342],\n",
      "        [ 999,  427],\n",
      "        [ 913,  432],\n",
      "        [ 904,  349]],\n",
      "\n",
      "       [[1122,  337],\n",
      "        [1131,  420],\n",
      "        [1042,  428],\n",
      "        [1032,  344]]], dtype=int32), array([[[ 877,  466],\n",
      "        [ 888,  549],\n",
      "        [ 800,  557],\n",
      "        [ 793,  471]],\n",
      "\n",
      "       [[1007,  462],\n",
      "        [1017,  550],\n",
      "        [ 928,  557],\n",
      "        [ 918,  468]],\n",
      "\n",
      "       [[1136,  459],\n",
      "        [1148,  549],\n",
      "        [1059,  556],\n",
      "        [1048,  467]]], dtype=int32)]\n"
     ]
    },
    {
     "data": {
      "text/plain": "'pt_centre = []\\nfor i in range(len(squares)):\\n        pt_centre.append(np.mean(squares[i], axis = 0))\\npt_centre = np.array(pt_centre)\\n\\nind = pt_centre[pt_centre[:,1].argsort()]\\nprint(ind[0:2])'"
     },
     "execution_count": 115,
     "metadata": {},
     "output_type": "execute_result"
    }
   ],
   "source": [
    "print(squares)\n",
    "print(position(squares))\n",
    "\"\"\"pt_centre = []\n",
    "for i in range(len(squares)):\n",
    "        pt_centre.append(np.mean(squares[i], axis = 0))\n",
    "pt_centre = np.array(pt_centre)\n",
    "\n",
    "ind = pt_centre[pt_centre[:,1].argsort()]\n",
    "print(ind[0:2])\"\"\"\n",
    "\n",
    "\n"
   ],
   "metadata": {
    "collapsed": false,
    "pycharm": {
     "name": "#%%\n"
    }
   }
  }
 ],
 "metadata": {
  "kernelspec": {
   "name": "python3",
   "language": "python",
   "display_name": "Python 3 (ipykernel)"
  },
  "language_info": {
   "codemirror_mode": {
    "name": "ipython",
    "version": 2
   },
   "file_extension": ".py",
   "mimetype": "text/x-python",
   "name": "python",
   "nbconvert_exporter": "python",
   "pygments_lexer": "ipython2",
   "version": "2.7.6"
  }
 },
 "nbformat": 4,
 "nbformat_minor": 0
}