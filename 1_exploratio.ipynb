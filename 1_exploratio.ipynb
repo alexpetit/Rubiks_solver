{
 "cells": [
  {
   "cell_type": "code",
   "execution_count": 1,
   "metadata": {},
   "outputs": [],
   "source": [
    "import cv2 \n",
    "import pandas as pd \n",
    "import numpy as np \n",
    "import matplotlib.pyplot as plt \n",
    "from colormath.color_objects import sRGBColor, LabColor\n",
    "from colormath.color_conversions import convert_color\n",
    "from colormath.color_diff import delta_e_cie2000"
   ]
  },
  {
   "cell_type": "code",
   "execution_count": 2,
   "metadata": {},
   "outputs": [],
   "source": [
    "imgobj = cv2.imread('img/green_face.jpg',)\n",
    "gray_img = cv2.cvtColor(imgobj, cv2.COLOR_BGR2GRAY)\n",
    "gray_img = np.float32(gray_img)\n",
    "corners = cv2.goodFeaturesToTrack(gray_img, maxCorners=50,     qualityLevel=0.20, minDistance=20)\n",
    "corners = np.float32(corners)\n",
    "\n",
    "for item in corners:\n",
    "    x, y = item[0]\n",
    "\n",
    "    cv2.circle(imgobj, (int(x), int(y)), 50, (255, 0, 0), -1)\n",
    "\n",
    "\n",
    "cv2.imshow('',imgobj)\n",
    " \n",
    "cv2.waitKey(0)\n",
    "cv2.destroyAllWindows()"
   ]
  },
  {
   "cell_type": "code",
   "execution_count": 3,
   "metadata": {},
   "outputs": [],
   "source": [
    "def angle_cos(p0, p1, p2):\n",
    "    import numpy as np\n",
    "\n",
    "    d1, d2 = (p0-p1).astype('float'), (p2-p1).astype('float')\n",
    "    return abs( np.dot(d1, d2) / np.sqrt( np.dot(d1, d1)*np.dot(d2, d2) ) )"
   ]
  },
  {
   "cell_type": "code",
   "execution_count": null,
   "metadata": {},
   "outputs": [],
   "source": [
    "imgobj = cv2.imread('img/green_face.jpg',)\n",
    "gray_img = cv2.cvtColor(imgobj, cv2.COLOR_BGR2GRAY)\n",
    "gray_img = np.float32(gray_img)\n",
    "blurred = cv2.GaussianBlur(gray_img, (3, 3), 0)\n",
    "canny = cv2.Canny(gray_img, 40, 80)\n",
    "cv2.imshow('',canny)\n",
    " \n",
    "cv2.waitKey(0)\n",
    "cv2.destroyAllWindows()"
   ]
  },
  {
   "cell_type": "code",
   "execution_count": 8,
   "metadata": {},
   "outputs": [],
   "source": [
    "# import the opencv library\n",
    "import cv2\n",
    "vid = cv2.VideoCapture(0) \n",
    "is_acquis=False;\n",
    "while(True):   \n",
    "    # Capture the video frame\n",
    "    # by frame\n",
    "    ret, frame = vid.read()\n",
    "\n",
    "\n",
    "    font = cv2.FONT_HERSHEY_SIMPLEX\n",
    "    gray_img = cv2.cvtColor(frame, cv2.COLOR_BGR2GRAY)\n",
    "    gray_img = np.float32(gray_img)\n",
    "    blurred = cv2.GaussianBlur(gray_img, (3, 3), 0)\n",
    "    canny = cv2.Canny(frame, 20, 40)\n",
    "    kernel = np.ones((3,3), np.uint8)\n",
    "    dilated = cv2.dilate(canny, kernel, iterations=2)\n",
    "    (contours, hierarchy) = cv2.findContours(dilated.copy(), cv2.RETR_TREE,cv2.CHAIN_APPROX_SIMPLE)\n",
    "\n",
    "    squares=[]\n",
    "    for cnt in contours:\n",
    "                    cnt_len = cv2.arcLength(cnt, True)\n",
    "                    cnt = cv2.approxPolyDP(cnt, 0.04*cnt_len, True)\n",
    "                    if len(cnt) == 4  and cv2.isContourConvex(cnt):\n",
    "                        cnt = cnt.reshape(-1, 2)\n",
    "                        max_cos = np.max([angle_cos( cnt[i], cnt[(i+1) % 4], cnt[(i+2) % 4] ) for i in range(4)])\n",
    "                        if max_cos < 0.2 and cv2.contourArea(cnt)>5000 and  cv2.contourArea(cnt)<10000:\n",
    "                            squares.append(cnt)\n",
    "\n",
    "    cv2.drawContours(frame, squares, -1, (0,255,0), 3)\n",
    "\n",
    "    if len(squares)==9:\n",
    "            front_face=frame\n",
    "            front_face_contours=squares\n",
    "            color_of_cubes=distance_colors(get_contours(front_face,front_face_contours),dic_colors)\n",
    "            is_acquis=True\n",
    "    \n",
    "    if is_acquis:\n",
    "        cv2.putText(frame, 'Acquis !,tournez la face', (50, 50), font, 1, (0, 255, 255), 2, cv2.LINE_4)\n",
    "        frame=draw_face((1000,590),(1010,600),20,frame,dic_colors,color_of_cubes)\n",
    "            \n",
    "    \n",
    "    cv2.imshow('frame',frame)\n",
    "    \n",
    "\n",
    "    if cv2.waitKey(1) & 0xFF == ord('q'):\n",
    "        break\n",
    "  \n",
    "# After the loop release the cap object\n",
    "vid.release()\n",
    "\n",
    "cv2.destroyAllWindows()"
   ]
  },
  {
   "cell_type": "code",
   "execution_count": 4,
   "metadata": {},
   "outputs": [],
   "source": [
    "def draw_face(pt1,pt2,of,frame,dic_colors,color_of_cubes):\n",
    "\n",
    "    tab=[(-of,-of),(-of,0),(-of,of),(0,-of),(0,0),(0,of),(of,-of),(of,0),(of,of)]\n",
    "    for i,x in enumerate(tab):\n",
    "        cv2.rectangle(frame, (pt1[0]-x[0],pt1[1]-x[1]), (pt2[0]-x[0],pt2[1]-x[1]), tuple(dic_colors[color_of_cubes[i]]), thickness=10)\n",
    "    return frame   "
   ]
  },
  {
   "cell_type": "code",
   "execution_count": 5,
   "metadata": {},
   "outputs": [],
   "source": [
    "def get_contours(img,contours):\n",
    "    tab=[]\n",
    "    for cnt in contours:\n",
    "        if cv2.contourArea(cnt) >800: # filter small contours\n",
    "            x,y,w,h = cv2.boundingRect(cnt) # offsets - with this you get 'mask'\n",
    "            tab.append(np.array(cv2.mean(img[y:y+h,x:x+w])).astype(np.uint8))\n",
    "    return tab"
   ]
  },
  {
   "cell_type": "code",
   "execution_count": 6,
   "metadata": {},
   "outputs": [],
   "source": [
    "\n",
    "def distance_colors(contours_colors,dic_colors):\n",
    "    reco_colors=[]\n",
    "    for contour in contours_colors:\n",
    "        dist_min=np.inf\n",
    "        for key,value in dic_colors.items():\n",
    "            \n",
    "            color_1 = convert_color(convert_color(sRGBColor(contour[2]/255,contour[1]/255, contour[0]/255), LabColor), LabColor);\n",
    "            color_2 = convert_color(convert_color(sRGBColor(value[0]/255,value[1]/255,value[2]/255), LabColor), LabColor);\n",
    "            delta_e = delta_e_cie2000(color_1, color_2)\n",
    "    \n",
    "            if delta_e<dist_min:\n",
    "                dist_min=delta_e\n",
    "                final_color=key\n",
    "        reco_colors.append(final_color)\n",
    "    return reco_colors"
   ]
  },
  {
   "cell_type": "code",
   "execution_count": 7,
   "metadata": {},
   "outputs": [],
   "source": [
    "dic_colors= {\"blue\" :[0,88,144],\"green\":[14,154,57],\"orange\":[210,111,38],\"red\":[83,48,5],\"yellow\":[149,212,85],\"white\":[133,191,177]}"
   ]
  },
  {
   "cell_type": "code",
   "execution_count": null,
   "metadata": {},
   "outputs": [],
   "source": [
    "color_of_cubes=distance_colors(get_contours(front_face,front_face_contours),dic_colors)\n",
    "frame=draw_face((1000,590),(1010,600),20,frame,dic_colors,color_of_cubes)\n",
    "plt.show"
   ]
  }
 ],
 "metadata": {
  "interpreter": {
   "hash": "8df381e3ce9798318ee498c35b4392cbf91559ed62a56f72542e8b0d599a6039"
  },
  "kernelspec": {
   "display_name": "Python 3.7.11 64-bit ('Rubiks_solver': conda)",
   "name": "python3"
  },
  "language_info": {
   "codemirror_mode": {
    "name": "ipython",
    "version": 3
   },
   "file_extension": ".py",
   "mimetype": "text/x-python",
   "name": "python",
   "nbconvert_exporter": "python",
   "pygments_lexer": "ipython3",
   "version": "3.7.11"
  },
  "orig_nbformat": 4
 },
 "nbformat": 4,
 "nbformat_minor": 2
}
