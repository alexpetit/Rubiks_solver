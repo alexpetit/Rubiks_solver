{
 "cells": [
  {
   "cell_type": "code",
   "execution_count": null,
   "metadata": {},
   "outputs": [],
   "source": [
    "import cv2 \n",
    "import pandas as pd \n",
    "import numpy as np "
   ]
  }
 ],
 "metadata": {
  "interpreter": {
   "hash": "8df381e3ce9798318ee498c35b4392cbf91559ed62a56f72542e8b0d599a6039"
  },
  "kernelspec": {
   "display_name": "Python 3.7.11 64-bit ('Rubiks_solver': conda)",
   "name": "python3"
  },
  "language_info": {
   "name": "python",
   "version": "3.7.11"
  },
  "orig_nbformat": 4
 },
 "nbformat": 4,
 "nbformat_minor": 2
}
